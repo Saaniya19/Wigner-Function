{
 "cells": [
  {
   "cell_type": "code",
   "execution_count": 8,
   "id": "d18a0a1c",
   "metadata": {},
   "outputs": [
    {
     "name": "stdout",
     "output_type": "stream",
     "text": [
      "4\n",
      "['#ff0000', '#ff1111', '#ff2222', '#ff3333', '#ff4444', '#ff5555', '#ff6666', '#ff7777', '#ff8888', '#ff9999', '#ffaaaa', '#ffbbbb', '#ffcccc', '#ffdddd', '#ffeeee', '#ffffff', '#0000ff', '#1111ff', '#2222ff', '#3333ff', '#4444ff', '#5555ff', '#6666ff', '#7777ff', '#8888ff', '#9999ff', '#aaaaff', '#bbbbff', '#ccccff', '#ddddff', '#eeeeff', '#ffffff']\n"
     ]
    }
   ],
   "source": [
    "#in a hex code the first two values represent red, the next two are green and the last two are blue\n",
    "#the insentity of the colour goes from 0 to 9 and a to f (letters are stronger than numbers)\n",
    "\n",
    "import matplotlib.pyplot as plt\n",
    "import random\n",
    "userIN = input()\n",
    "colourIntensity = ['0', '1', '2', '3', '4', '5', '6', '7', '8', '9', 'a', 'b', 'c', 'd', 'e', 'f']\n",
    "colours = []\n",
    "for i in range(16):\n",
    "    colours.append('#' + 'ff' + colourIntensity[i] + colourIntensity[i] + colourIntensity[i] + colourIntensity[i])\n",
    "for j in range(16):\n",
    "    colours.append('#' + colourIntensity[j] + colourIntensity[j] + colourIntensity[j] + colourIntensity[j] + 'ff')\n",
    "#no_of_colors=5\n",
    "#color=[\"#\"+''.join([random.choice('0123456789ABCDEF') for i in range(6)])\n",
    "       #for j in range(no_of_colors)]\n",
    "print(colours)\n",
    "#for j in range(no_of_colors):\n",
    "    #plt.scatter(random.randint(0,10),random.randint(0,10),c=color[j],s=200)\n",
    "#plt.show()"
   ]
  }
 ],
 "metadata": {
  "kernelspec": {
   "display_name": "Python 3 (ipykernel)",
   "language": "python",
   "name": "python3"
  },
  "language_info": {
   "codemirror_mode": {
    "name": "ipython",
    "version": 3
   },
   "file_extension": ".py",
   "mimetype": "text/x-python",
   "name": "python",
   "nbconvert_exporter": "python",
   "pygments_lexer": "ipython3",
   "version": "3.9.12"
  }
 },
 "nbformat": 4,
 "nbformat_minor": 5
}
