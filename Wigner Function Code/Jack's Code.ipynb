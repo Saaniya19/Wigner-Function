{
 "cells": [
  {
   "cell_type": "code",
   "execution_count": 26,
   "id": "4139421b",
   "metadata": {},
   "outputs": [
    {
     "name": "stdout",
     "output_type": "stream",
     "text": [
      "[[0.5+0.j 0. +0.j 0. +0.j 0. +0.j 0. +0.j 0. +0.j 0. +0.j 0.5+0.j 0. +0.j]\n",
      " [0. +0.j 0. +0.j 0. +0.j 0. +0.j 0. +0.j 0. +0.j 0. +0.j 0. +0.j 0. +0.j]\n",
      " [0. +0.j 0. +0.j 0. +0.j 0. +0.j 0. +0.j 0. +0.j 0. +0.j 0. +0.j 0. +0.j]\n",
      " [0. +0.j 0. +0.j 0. +0.j 0. +0.j 0. +0.j 0. +0.j 0. +0.j 0. +0.j 0. +0.j]\n",
      " [0. +0.j 0. +0.j 0. +0.j 0. +0.j 0. +0.j 0. +0.j 0. +0.j 0. +0.j 0. +0.j]\n",
      " [0. +0.j 0. +0.j 0. +0.j 0. +0.j 0. +0.j 0. +0.j 0. +0.j 0. +0.j 0. +0.j]\n",
      " [0. +0.j 0. +0.j 0. +0.j 0. +0.j 0. +0.j 0. +0.j 0. +0.j 0. +0.j 0. +0.j]\n",
      " [0.5+0.j 0. +0.j 0. +0.j 0. +0.j 0. +0.j 0. +0.j 0. +0.j 0.5+0.j 0. +0.j]\n",
      " [0. +0.j 0. +0.j 0. +0.j 0. +0.j 0. +0.j 0. +0.j 0. +0.j 0. +0.j 0. +0.j]]\n"
     ]
    },
    {
     "ename": "AttributeError",
     "evalue": "module 'matplotlib.pyplot' has no attribute 'im'",
     "output_type": "error",
     "traceback": [
      "\u001b[0;31m---------------------------------------------------------------------------\u001b[0m",
      "\u001b[0;31mAttributeError\u001b[0m                            Traceback (most recent call last)",
      "Input \u001b[0;32mIn [26]\u001b[0m, in \u001b[0;36m<cell line: 73>\u001b[0;34m()\u001b[0m\n\u001b[1;32m     71\u001b[0m     \u001b[38;5;28mprint\u001b[39m(wigner)\n\u001b[1;32m     73\u001b[0m \u001b[38;5;28;01mif\u001b[39;00m \u001b[38;5;18m__name__\u001b[39m \u001b[38;5;241m==\u001b[39m \u001b[38;5;124m\"\u001b[39m\u001b[38;5;124m__main__\u001b[39m\u001b[38;5;124m\"\u001b[39m:\n\u001b[0;32m---> 74\u001b[0m     \u001b[43mmain\u001b[49m\u001b[43m(\u001b[49m\u001b[43m)\u001b[49m\n",
      "Input \u001b[0;32mIn [26]\u001b[0m, in \u001b[0;36mmain\u001b[0;34m()\u001b[0m\n\u001b[1;32m     65\u001b[0m wigner \u001b[38;5;241m=\u001b[39m Wigner(rho)\n\u001b[1;32m     67\u001b[0m maxval \u001b[38;5;241m=\u001b[39m \u001b[38;5;28mabs\u001b[39m(wigner)\u001b[38;5;241m.\u001b[39mmax()\n\u001b[0;32m---> 68\u001b[0m im \u001b[38;5;241m=\u001b[39m \u001b[43mplt\u001b[49m\u001b[38;5;241;43m.\u001b[39;49m\u001b[43mim\u001b[49m(wigner, cmap \u001b[38;5;241m=\u001b[39m \u001b[38;5;124m'\u001b[39m\u001b[38;5;124mRdBu_r\u001b[39m\u001b[38;5;124m'\u001b[39m, vmax\u001b[38;5;241m=\u001b[39mmaxval, vmin\u001b[38;5;241m=\u001b[39m\u001b[38;5;241m-\u001b[39mmaxval, origin\u001b[38;5;241m=\u001b[39m\u001b[38;5;124m'\u001b[39m\u001b[38;5;124mlower\u001b[39m\u001b[38;5;124m'\u001b[39m)\n\u001b[1;32m     69\u001b[0m \u001b[38;5;66;03m#plt.colorbar(im)\u001b[39;00m\n\u001b[1;32m     70\u001b[0m \u001b[38;5;66;03m#plt.show()\u001b[39;00m\n\u001b[1;32m     71\u001b[0m \u001b[38;5;28mprint\u001b[39m(wigner)\n",
      "\u001b[0;31mAttributeError\u001b[0m: module 'matplotlib.pyplot' has no attribute 'im'"
     ]
    }
   ],
   "source": [
    "import numpy as np\n",
    "import matplotlib\n",
    "import matplotlib.pyplot as plt\n",
    "\n",
    "def Wigner(rho):\n",
    "    \"\"\"accepts density matrix and returns Wigner function\n",
    "    over d x d toroidal lattice phase space\"\"\"\n",
    "\n",
    "    print(rho)\n",
    "    d = np.shape(rho)[0]\n",
    "    root_d = np.exp(1j * 2 * np.pi / d)\n",
    "\n",
    "    # build generalized Pauli X & Z matrices\n",
    "    # Pauli X\n",
    "    X = np.zeros((d,d), dtype=complex)\n",
    "    X[0,-1] = 1\n",
    "    for i in range(d-1):\n",
    "        X[i+1,i] = 1\n",
    "\n",
    "    # Pauli Z\n",
    "    Z = np.zeros((d,d), dtype=complex)\n",
    "    for i in range(d):\n",
    "        Z[i,i] = root_d**i\n",
    "\n",
    "    # define Weyl displacement operators from Paulis\n",
    "    def Weyl(vec):\n",
    "        \"\"\"accepts vector vec = [a,b] and returns \n",
    "        Weyl displacement operator T_[a,b]\"\"\"\n",
    "\n",
    "        #  extract displacement vector and enforce periodic boundary\n",
    "        # (i.e. stay on the toroidal lattice)\n",
    "        v1, v2 = vec\n",
    "        v1 = np.mod(v1, d)\n",
    "        v2 = np.mod(v2, d)\n",
    "\n",
    "        T = root_d**(- v1 * v2 / 2) * ( np.linalg.matrix_power(Z, v1) @ np.linalg.matrix_power(X, v2) )\n",
    "\n",
    "        return T\n",
    "\n",
    "    # build un-displaced parity operator\n",
    "    T0 = np.zeros((d,d), dtype=complex)\n",
    "    for v1 in range(d):\n",
    "        for v2 in range(d):\n",
    "            T0 += 1/d * Weyl([v1,v2])\n",
    "\n",
    "    # evaluate Wigner function (note the double use of v1 and v2\n",
    "    # as both vectors and array indices)\n",
    "    wigner = np.zeros((d,d))\n",
    "    for v1 in range(d):\n",
    "            for v2 in range(d):\n",
    "                value = 1/d * np.trace( rho @ Weyl([v1,v2]) @ T0 @ Weyl([v1,v2]).conj().T )\n",
    "                # print(value)\n",
    "                if np.abs(value.imag) < 1e-1: value = value.real\n",
    "                else: raise Exception(\"imaginary value in Wigner function\")\n",
    "                wigner[v1,v2] = value\n",
    "\n",
    "    return wigner\n",
    "\n",
    "def main():\n",
    "    dim = 9\n",
    "    state = np.zeros(dim, dtype=complex)\n",
    "    state[0] = 1/np.sqrt(2)\n",
    "    state[-2] = 1/np.sqrt(2)\n",
    "    rho = np.outer(state, np.conjugate(state))\n",
    "    wigner = Wigner(rho)\n",
    "\n",
    "    maxval = abs(wigner).max()\n",
    "    im = plt.imshow(wigner, cmap = 'RdBu_r', vmax=maxval, vmin=-maxval, origin='lower')\n",
    "    #plt.colorbar(im)\n",
    "    #plt.show()\n",
    "    print(wigner)\n",
    "\n",
    "if __name__ == \"__main__\":\n",
    "    main()"
   ]
  }
 ],
 "metadata": {
  "kernelspec": {
   "display_name": "Python 3 (ipykernel)",
   "language": "python",
   "name": "python3"
  },
  "language_info": {
   "codemirror_mode": {
    "name": "ipython",
    "version": 3
   },
   "file_extension": ".py",
   "mimetype": "text/x-python",
   "name": "python",
   "nbconvert_exporter": "python",
   "pygments_lexer": "ipython3",
   "version": "3.9.12"
  }
 },
 "nbformat": 4,
 "nbformat_minor": 5
}
